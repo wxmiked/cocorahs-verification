{
 "cells": [
  {
   "cell_type": "markdown",
   "metadata": {},
   "source": [
    "# CoCoRaHS Verification for Feb 2019 California Precipitation\n"
   ]
  },
  {
   "cell_type": "markdown",
   "metadata": {},
   "source": [
    "![](https://ggweather.com/water/sf.png)\n",
    "**Figure**: San Francisco 2018-2019 season rain from Golden Gate Weather (2019-04-23)."
   ]
  },
  {
   "cell_type": "markdown",
   "metadata": {},
   "source": [
    "## Create a new WinDB2\n",
    "```\n",
    "mike@honami:~/vscode-workspace/cocorahs-verification$ create-windb2.py localhost postgres cocorahs-california-1\n",
    "```"
   ]
  },
  {
   "cell_type": "markdown",
   "metadata": {},
   "source": [
    "## Mask for California only\n",
    "CoCoRaHS is mostly only in the United States. So a Shapefile of the US boundaries was acquired from [here](https://www.weather.gov/gis/USStates) and used as a mask for the forecast data.\n",
    "\n",
    "Insert the US state Shapefile into the WinDB2:\n",
    "```\n",
    "mike@honami:~/vscode-workspace/cocorahs-verification/data-to-import/national-weather-service$ shp2pgsql -s 4269 s_11au16.shp us_boundary_r1 | psql -U postgres cocorahs-california-1 \n",
    "```\n",
    "... and delete everything except California in the WinDB2:\n",
    "```\n",
    "cocorahs-california-1=# CREATE TABLE california_boundary_r1 AS SELECT * FROM us_boundary_r1 WHERE state='CA';\n",
    "\n",
    "\n",
    " ```"
   ]
  },
  {
   "cell_type": "markdown",
   "metadata": {},
   "source": [
    "# This is cool\n",
    "\n",
    "*Bold*\n"
   ]
  }
 ],
 "metadata": {
  "kernelspec": {
   "display_name": "Python 3",
   "language": "python",
   "name": "python3"
  },
  "language_info": {
   "codemirror_mode": {
    "name": "ipython",
    "version": 3
   },
   "file_extension": ".py",
   "mimetype": "text/x-python",
   "name": "python",
   "nbconvert_exporter": "python",
   "pygments_lexer": "ipython3",
   "version": "3.6.7"
  }
 },
 "nbformat": 4,
 "nbformat_minor": 2
}
